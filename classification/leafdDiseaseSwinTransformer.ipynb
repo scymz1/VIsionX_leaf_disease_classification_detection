{
 "cells": [
  {
   "cell_type": "code",
   "execution_count": null,
   "metadata": {},
   "outputs": [],
   "source": [
    "! where pip\n",
    "! pip install torchsummary\n",
    "! pip install transformers\n",
    "! pip3 install torch torchvision torchaudio --extra-index-url https://download.pytorch.org/whl/cu113"
   ]
  },
  {
   "cell_type": "code",
   "execution_count": 1,
   "metadata": {
    "colab": {
     "base_uri": "https://localhost:8080/"
    },
    "id": "lVuwWazq0tIm",
    "outputId": "a8e766fd-efa2-4845-e2c3-a3cd4900a7d7"
   },
   "outputs": [
    {
     "name": "stdout",
     "output_type": "stream",
     "text": [
      "cuda:0\n"
     ]
    },
    {
     "data": {
      "text/plain": [
       "'1.12.1'"
      ]
     },
     "execution_count": 1,
     "metadata": {},
     "output_type": "execute_result"
    }
   ],
   "source": [
    "#import packages and check GPU availablity \n",
    "import torch\n",
    "import torchvision\n",
    "import torchvision.transforms as transforms\n",
    "from torchvision.transforms.autoaugment import TrivialAugmentWide\n",
    "import matplotlib.pyplot as plt\n",
    "import torch.nn as nn\n",
    "import torch.nn.functional as F\n",
    "from torchsummary import summary\n",
    "from torch.utils.data import DataLoader, random_split\n",
    "import torch.optim as optim\n",
    "import numpy as np\n",
    "import os\n",
    "device = torch.device('cuda:0' if torch.cuda.is_available() else 'cpu')\n",
    "\n",
    "print(device)\n",
    "torch.__version__"
   ]
  },
  {
   "cell_type": "markdown",
   "metadata": {
    "tags": []
   },
   "source": [
    "# download dataset, \n",
    "# or you can download manually from https://www.kaggle.com/datasets/vipoooool/new-plant-diseases-dataset"
   ]
  },
  {
   "cell_type": "code",
   "execution_count": null,
   "metadata": {
    "colab": {
     "base_uri": "https://localhost:8080/"
    },
    "id": "LkqWux-1dbro",
    "outputId": "cfef1380-f20c-4831-9163-c19cc005f46f"
   },
   "outputs": [],
   "source": [
    "# install kaggle for downloading dataset\n",
    "! pwd\n",
    "! pip install kaggle\n",
    "! mkdir ~/.kaggle\n",
    "! cp kaggle.json ~/.kaggle/\n",
    "! chmod 600 ~/.kaggle/kaggle.json"
   ]
  },
  {
   "cell_type": "code",
   "execution_count": null,
   "metadata": {
    "colab": {
     "base_uri": "https://localhost:8080/"
    },
    "id": "rcBDIbDDdL9C",
    "outputId": "05a9efad-3a2b-46a9-ba10-0b447bafa3a0"
   },
   "outputs": [],
   "source": [
    "! kaggle datasets download -d vipoooool/new-plant-diseases-dataset"
   ]
  },
  {
   "cell_type": "code",
   "execution_count": null,
   "metadata": {
    "colab": {
     "base_uri": "https://localhost:8080/"
    },
    "id": "hfDWNcXxXXZ6",
    "outputId": "b9e43cfe-0ff7-4969-a128-fb0a680e5454"
   },
   "outputs": [],
   "source": [
    "! unzip new-plant-diseases-dataset.zip"
   ]
  },
  {
   "cell_type": "code",
   "execution_count": null,
   "metadata": {
    "id": "AM8x5cO3YJuk"
   },
   "outputs": [],
   "source": [
    "! mv \"./New Plant Diseases Dataset(Augmented)/New Plant Diseases Dataset(Augmented)\" \"./dataset\""
   ]
  },
  {
   "cell_type": "markdown",
   "metadata": {},
   "source": [
    "# define hyper parameters for training"
   ]
  },
  {
   "cell_type": "code",
   "execution_count": 2,
   "metadata": {
    "id": "b9QbmoLLNG0D"
   },
   "outputs": [],
   "source": [
    "#global variable and training param\n",
    "if torch.cuda.is_available():\n",
    "    torch.cuda.empty_cache()\n",
    "epoch = 30\n",
    "batch_size = 16\n",
    "lr = 0.005\n",
    "momentum = 0.9\n",
    "gamma = 0.1\n",
    "step_size = 4375"
   ]
  },
  {
   "cell_type": "markdown",
   "metadata": {},
   "source": [
    "# loading images and labels from dataset\n",
    "you may need to modify the path to your dataset"
   ]
  },
  {
   "cell_type": "code",
   "execution_count": 3,
   "metadata": {
    "colab": {
     "base_uri": "https://localhost:8080/"
    },
    "id": "laZM7Ckq1NaT",
    "outputId": "e59f5807-e640-4d26-b62f-bc17e8400fdb"
   },
   "outputs": [
    {
     "name": "stdout",
     "output_type": "stream",
     "text": [
      "70295\n",
      "17572\n"
     ]
    }
   ],
   "source": [
    "#load training and testing data\n",
    "transform = transforms.Compose(\n",
    "    [transforms.ToTensor(),\n",
    "     transforms.Normalize((0.5, 0.5, 0.5), (0.5, 0.5, 0.5))])\n",
    "\n",
    "#trainset = torchvision.datasets.ImageFolder('tomatoLeaf-3/train/images',transform = transform)\n",
    "trainset = torchvision.datasets.ImageFolder('./New Plant Diseases Dataset(Augmented)/train',transform = transform)\n",
    "\n",
    "print(len(trainset))\n",
    "\n",
    "\n",
    "\n",
    "\n",
    "trainloader = torch.utils.data.DataLoader(trainset, batch_size=batch_size,\n",
    "                                          shuffle=True, num_workers=2)\n",
    "\n",
    "#testset = torchvision.datasets.ImageFolder('tomatoLeaf-3/valid/images',transform = transform)\n",
    "testset = torchvision.datasets.ImageFolder('./New Plant Diseases Dataset(Augmented)/valid',transform = transform)\n",
    "print(len(testset))\n",
    "#testset,validset = random_split(testset,[2585,2000])\n",
    "testset,validset = random_split(testset,[10000,7572])\n",
    "\n",
    "testloader = torch.utils.data.DataLoader(testset, batch_size=batch_size,\n",
    "                                         shuffle=False, num_workers=2)\n",
    "\n",
    "validloader = torch.utils.data.DataLoader(validset,batch_size = batch_size,\n",
    "                                          shuffle = True, num_workers = 2)\n",
    "classes = []\n",
    "for name in os.listdir(\"./New Plant Diseases Dataset(Augmented)/train\"):\n",
    "#for name in os.listdir(\"./drive/MyDrive/Colab Notebooks/train/tomato\"):\n",
    "  classes.append(name)\n"
   ]
  },
  {
   "cell_type": "code",
   "execution_count": 4,
   "metadata": {},
   "outputs": [
    {
     "data": {
      "text/plain": [
       "38"
      ]
     },
     "execution_count": 4,
     "metadata": {},
     "output_type": "execute_result"
    }
   ],
   "source": [
    "len(classes)"
   ]
  },
  {
   "cell_type": "markdown",
   "metadata": {},
   "source": [
    "# Show some example images"
   ]
  },
  {
   "cell_type": "code",
   "execution_count": 5,
   "metadata": {
    "colab": {
     "base_uri": "https://localhost:8080/",
     "height": 153
    },
    "id": "Ytc258EcXHNp",
    "outputId": "bdb14102-3e3a-4faa-fe09-10157c23a77a"
   },
   "outputs": [
    {
     "data": {
      "image/png": "[encoded data removed]",
      "text/plain": [
       "<Figure size 432x288 with 1 Axes>"
      ]
     },
     "metadata": {
      "needs_background": "light"
     },
     "output_type": "display_data"
    },
    {
     "name": "stdout",
     "output_type": "stream",
     "text": [
      "Cherry_(including_sour)___healthy Tomato___healthy Potato___Late_blight Tomato___Tomato_Yellow_Leaf_Curl_Virus Tomato___Septoria_leaf_spot Strawberry___healthy Corn_(maize)___Cercospora_leaf_spot Gray_leaf_spot Cherry_(including_sour)___Powdery_mildew Pepper,_bell___Bacterial_spot Pepper,_bell___healthy Peach___healthy Corn_(maize)___Common_rust_ Tomato___Target_Spot Cherry_(including_sour)___healthy Soybean___healthy Apple___healthy\n"
     ]
    }
   ],
   "source": [
    "import matplotlib.pyplot as plt\n",
    "import numpy as np\n",
    "\n",
    "# functions to show an image\n",
    "\n",
    "\n",
    "def imshow(img):\n",
    "    img = img / 2 + 0.5     # unnormalize\n",
    "    npimg = img.numpy()\n",
    "    plt.imshow(np.transpose(npimg, (1, 2, 0)))\n",
    "    plt.show()\n",
    "\n",
    "\n",
    "# get some random training images\n",
    "dataiter = iter(trainloader)\n",
    "images, labels = dataiter.next()\n",
    "\n",
    "# show images\n",
    "imshow(torchvision.utils.make_grid(images))\n",
    "# print labels\n",
    "print(' '.join(f'{classes[labels[j]]:5s}' for j in range(batch_size)))"
   ]
  },
  {
   "cell_type": "markdown",
   "metadata": {},
   "source": [
    "# load models [Vision transformer]\n",
    "Just for testing performance of large models of ViT. Please do not use ViT for training because the model is too large."
   ]
  },
  {
   "cell_type": "code",
   "execution_count": null,
   "metadata": {},
   "outputs": [],
   "source": [
    "from transformers import ViTFeatureExtractor, ViTModel\n",
    "from PIL import Image\n",
    "import requests\n",
    "\n",
    "url = 'http://images.cocodataset.org/val2017/000000039769.jpg'\n",
    "image = Image.open(requests.get(url, stream=True).raw)\n",
    "\n",
    "feature_extractor = ViTFeatureExtractor.from_pretrained('google/vit-base-patch16-224-in21k')\n",
    "model = ViTModel.from_pretrained('google/vit-base-patch16-224-in21k')\n",
    "inputs = feature_extractor(images=image, return_tensors=\"pt\")\n",
    "\n",
    "outputs = model(**inputs)\n",
    "last_hidden_states = outputs.last_hidden_state\n"
   ]
  },
  {
   "cell_type": "code",
   "execution_count": 7,
   "metadata": {},
   "outputs": [
    {
     "data": {
      "text/plain": [
       "torch.Size([1, 3, 224, 224])"
      ]
     },
     "execution_count": 7,
     "metadata": {},
     "output_type": "execute_result"
    }
   ],
   "source": [
    "# some testing code, you can ignore it or run it if you like\n",
    "\n",
    "inputs['pixel_values'].shape\n",
    "type(outputs), model.config.hidden_size\n",
    "test2=nn.Flatten()\n",
    "test=nn.Linear(model.config.hidden_size, 20)\n",
    "print(last_hidden_states[:,0,:].shape)\n",
    "#flt = test2(last_hidden_states)\n",
    "print(test(last_hidden_states[:,0,:]).shape)"
   ]
  },
  {
   "cell_type": "markdown",
   "metadata": {},
   "source": [
    "# load tiny swin transformer for training and testing on our task"
   ]
  },
  {
   "cell_type": "code",
   "execution_count": 9,
   "metadata": {},
   "outputs": [
    {
     "name": "stderr",
     "output_type": "stream",
     "text": [
      "D:\\Anaconda3\\lib\\site-packages\\torch\\functional.py:568: UserWarning: torch.meshgrid: in an upcoming release, it will be required to pass the indexing argument. (Triggered internally at  C:\\actions-runner\\_work\\pytorch\\pytorch\\builder\\windows\\pytorch\\aten\\src\\ATen\\native\\TensorShape.cpp:2228.)\n",
      "  return _VF.meshgrid(tensors, **kwargs)  # type: ignore[attr-defined]\n"
     ]
    }
   ],
   "source": [
    "from transformers import AutoFeatureExtractor, SwinForImageClassification\n",
    "from PIL import Image\n",
    "import requests\n",
    "\n",
    "url = \"http://images.cocodataset.org/val2017/000000039769.jpg\"\n",
    "image = Image.open(requests.get(url, stream=True).raw)\n",
    "\n",
    "#feature_extractor = AutoFeatureExtractor.from_pretrained(\"microsoft/swin-tiny-patch4-window7-224\")\n",
    "model = SwinForImageClassification.from_pretrained(\"microsoft/swin-tiny-patch4-window7-224\")\n"
   ]
  },
  {
   "cell_type": "code",
   "execution_count": 10,
   "metadata": {},
   "outputs": [],
   "source": [
    "class ViTForImageClassification2(nn.Module):\n",
    "\n",
    "    def __init__(self, num_labels):\n",
    "\n",
    "        super(ViTForImageClassification2, self).__init__()\n",
    "        #self.vit = ViTModel.from_pretrained('google/vit-base-patch16-224-in21k')\n",
    "        self.vit = SwinForImageClassification.from_pretrained(\"microsoft/swin-tiny-patch4-window7-224\")\n",
    "        #print(self.vit.config)\n",
    "        self.classifier = nn.Linear(1000, num_labels)\n",
    "        self.num_labels = num_labels\n",
    "\n",
    "    def forward(self, pixel_values):\n",
    "\n",
    "        outputs = self.vit(pixel_values=pixel_values)\n",
    "        #print(outputs.logits.shape)\n",
    "        logits = self.classifier(outputs.logits)\n",
    "        #last_hidden_states=outputs.last_hidden_state\n",
    "        #logits = self.classifier(last_hidden_states[:,0,:])\n",
    "        return logits\n",
    "\n",
    "model=ViTForImageClassification2(num_labels=len(classes))"
   ]
  },
  {
   "cell_type": "markdown",
   "metadata": {},
   "source": [
    "# if you have any model already trained, you can use the following code to load it"
   ]
  },
  {
   "cell_type": "code",
   "execution_count": 10,
   "metadata": {},
   "outputs": [
    {
     "data": {
      "text/plain": [
       "<All keys matched successfully>"
      ]
     },
     "execution_count": 10,
     "metadata": {},
     "output_type": "execute_result"
    }
   ],
   "source": [
    "model.load_state_dict(torch.load(\"./vit_leaf_classify.pth\"))"
   ]
  },
  {
   "cell_type": "code",
   "execution_count": 11,
   "metadata": {},
   "outputs": [
    {
     "data": {
      "text/plain": [
       "torch.Size([16, 38])"
      ]
     },
     "execution_count": 11,
     "metadata": {},
     "output_type": "execute_result"
    }
   ],
   "source": [
    "# just for testing\n",
    "model(images).shape"
   ]
  },
  {
   "cell_type": "markdown",
   "metadata": {},
   "source": [
    "# Define training optimizers and scheduler for updating learning rate"
   ]
  },
  {
   "cell_type": "code",
   "execution_count": 12,
   "metadata": {},
   "outputs": [
    {
     "name": "stdout",
     "output_type": "stream",
     "text": [
      "Adjusting learning rate of group 0 to 5.0000e-03.\n"
     ]
    }
   ],
   "source": [
    "model.to(device)\n",
    "\n",
    "criterion = nn.CrossEntropyLoss()\n",
    "optimizer = optim.SGD(model.parameters(), lr=lr, momentum=momentum)\n",
    "scheduler = optim.lr_scheduler.StepLR(optimizer, gamma = gamma,step_size=step_size, verbose = True)\n"
   ]
  },
  {
   "cell_type": "markdown",
   "metadata": {},
   "source": [
    "# train the model"
   ]
  },
  {
   "cell_type": "code",
   "execution_count": null,
   "metadata": {},
   "outputs": [],
   "source": [
    "import gc\n",
    "epoch = 4\n",
    "for each in range(epoch):  # loop over the dataset multiple times\n",
    "    print(\"epoch \", each)\n",
    "    running_loss = 0.0\n",
    "    model.train()\n",
    "    for i, data in enumerate(trainloader, 0):\n",
    "        gc.collect()\n",
    "        torch.cuda.empty_cache()\n",
    "        break\n",
    "        # get the inputs; data is a list of [inputs, labels]\n",
    "        inputs, labels = data[0].to(device),data[1].to(device)\n",
    "        # zero the parameter gradients\n",
    "        optimizer.zero_grad()\n",
    "\n",
    "        # forward + backward + optimize\n",
    "        outputs = model(inputs)\n",
    "        loss = criterion(outputs, labels)\n",
    "        print(loss)\n",
    "        loss.backward()\n",
    "        optimizer.step()\n",
    "\n",
    "        running_loss += loss.item()\n",
    "        print(running_loss)\n",
    "        \n",
    "        \n",
    "    valid_loss = 0.0\n",
    "    model.eval()\n",
    "    for i, data in enumerate(validloader,0):\n",
    "        gc.collect()\n",
    "        torch.cuda.empty_cache()\n",
    "        inputs, labels = data[0].to(device),data[1].to(device)\n",
    "        outputs = model(inputs)\n",
    "        loss = criterion(outputs, labels)\n",
    "        valid_loss += loss\n",
    "        print(valid_loss)\n",
    "\n",
    "    scheduler.step()\n",
    "    print(f' train loss: {running_loss / len(trainloader)}, valid loss: {valid_loss / len(validloader)}')\n",
    "    running_loss = 0.0       \n",
    "\n",
    "print('Finished Training')\n",
    "torch.save(model.state_dict(), '/vit_leaf_classify.pth')\n",
    "print(\"Training saved\")"
   ]
  },
  {
   "cell_type": "code",
   "execution_count": 13,
   "metadata": {},
   "outputs": [
    {
     "name": "stdout",
     "output_type": "stream",
     "text": [
      "Training saved\n"
     ]
    }
   ],
   "source": [
    "torch.save(model.state_dict(), './vit_leaf_classify.pth')\n",
    "print(\"Training saved\")"
   ]
  },
  {
   "cell_type": "code",
   "execution_count": null,
   "metadata": {},
   "outputs": [],
   "source": []
  }
 ],
 "metadata": {
  "accelerator": "GPU",
  "colab": {
   "background_execution": "on",
   "collapsed_sections": [],
   "machine_shape": "hm",
   "name": "leafdDiseaseAlexnet.ipynb",
   "provenance": []
  },
  "kernelspec": {
   "display_name": "Python 3 (ipykernel)",
   "language": "python",
   "name": "python3"
  },
  "language_info": {
   "codemirror_mode": {
    "name": "ipython",
    "version": 3
   },
   "file_extension": ".py",
   "mimetype": "text/x-python",
   "name": "python",
   "nbconvert_exporter": "python",
   "pygments_lexer": "ipython3",
   "version": "3.9.12"
  }
 },
 "nbformat": 4,
 "nbformat_minor": 4
}
